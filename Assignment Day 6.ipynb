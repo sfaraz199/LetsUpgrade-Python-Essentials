{
 "cells": [
  {
   "cell_type": "markdown",
   "metadata": {},
   "source": [
    "## Assignment Day 6"
   ]
  },
  {
   "cell_type": "markdown",
   "metadata": {},
   "source": [
    "### Q1. For this challenge, create a bank account class that has:\n",
    "### two attributes: owner and balance\n",
    "### two methods: deposit  and withdraw\n",
    "\n",
    "### As an added requirement, withdrawals may not exceed the available balance.\n",
    "\n",
    "### Instantiate your class, make several deposits and withdrawals, and test to make sure the account can't be overdrawn."
   ]
  },
  {
   "cell_type": "code",
   "execution_count": 1,
   "metadata": {},
   "outputs": [
    {
     "name": "stdout",
     "output_type": "stream",
     "text": [
      "Account owner: Syed Faraz\n",
      "Account balance: Rs.10000\n",
      "Deposit Accepted, your balance is Rs.15000\n",
      "Withdrawal Accepted, your balance is Rs.7500\n",
      "Funds Unavailable!\n"
     ]
    }
   ],
   "source": [
    "class Account:\n",
    "    \n",
    "    def __init__(self, owner, balance):\n",
    "        self.owner = owner\n",
    "        self.balance = balance\n",
    "    \n",
    "    def __str__(self):\n",
    "        return 'Account owner: {owner}\\nAccount balance: Rs.{balance}'.format(owner=self.owner, balance=self.balance)\n",
    "        \n",
    "    def deposit(self, depo_money):\n",
    "        self.balance += depo_money\n",
    "        print('Deposit Accepted, your balance is Rs.{balance}'.format(balance=self.balance))\n",
    "    \n",
    "    def withdraw(self, wid_money):\n",
    "        if wid_money > self.balance:\n",
    "            print('Funds Unavailable!')\n",
    "        else:\n",
    "            self.balance -= wid_money\n",
    "            print('Withdrawal Accepted, your balance is Rs.{balance}'.format(balance=self.balance))\n",
    "            \n",
    "account_name = Account('Syed Faraz',10000)\n",
    "print(account_name)\n",
    "\n",
    "account_name.deposit(5000)\n",
    "account_name.withdraw(7500)\n",
    "account_name.withdraw(50000)"
   ]
  },
  {
   "cell_type": "markdown",
   "metadata": {},
   "source": [
    "### Q2. For this challenge,create a cone class that has:\n",
    "### two attributes: R=Radius and h=Height\n",
    "\n",
    "### And two methods: Volume = Π * r2 = (h/3) and \n",
    "### Surface area : base : Π * r2 , side : Π * r * √(r2 + h2)\n",
    "\n",
    "### Make only one class with functions,as in where required import Math."
   ]
  },
  {
   "cell_type": "code",
   "execution_count": 4,
   "metadata": {},
   "outputs": [
    {
     "name": "stdout",
     "output_type": "stream",
     "text": [
      "Radius of Cone is = 7\n",
      "Height of Cone is = 14\n",
      "Volume of Cone is = 718.378\n",
      "Surface Area of Cone is = 498.154\n"
     ]
    }
   ],
   "source": [
    "import math\n",
    "pi = math.pi\n",
    "\n",
    "class Cone:\n",
    "    \n",
    "    def __init__(self, Radius, Height):\n",
    "        self.Radius = Radius\n",
    "        self.Height = Height\n",
    "        \n",
    "    def __str__(self):\n",
    "        return 'Radius of Cone is = {Radius}\\nHeight of Cone is = {Height}'.format(Radius=self.Radius, Height=self.Height)\n",
    "    \n",
    "    def volume(self):\n",
    "        R=self.Radius\n",
    "        H=self.Height\n",
    "        volume_clone=(1/3)*pi*R*R*H\n",
    "        print('Volume of Cone is = {:.3f}'.format(volume_clone))\n",
    "\n",
    "    def surfacearea(self):\n",
    "        R=self.Radius\n",
    "        H=self.Height\n",
    "        base=pi*R*R\n",
    "        side=pi*R*math.sqrt(R*R+H*H)\n",
    "        surfacearea_cone=base+side\n",
    "        print('Surface Area of Cone is = {:.3f}'.format(surfacearea_cone))    \n",
    "        \n",
    "values=Cone(7,14)    \n",
    "print(values)\n",
    "values.volume()\n",
    "values.surfacearea()"
   ]
  }
 ],
 "metadata": {
  "kernelspec": {
   "display_name": "Python 3",
   "language": "python",
   "name": "python3"
  },
  "language_info": {
   "codemirror_mode": {
    "name": "ipython",
    "version": 3
   },
   "file_extension": ".py",
   "mimetype": "text/x-python",
   "name": "python",
   "nbconvert_exporter": "python",
   "pygments_lexer": "ipython3",
   "version": "3.8.3"
  }
 },
 "nbformat": 4,
 "nbformat_minor": 4
}
