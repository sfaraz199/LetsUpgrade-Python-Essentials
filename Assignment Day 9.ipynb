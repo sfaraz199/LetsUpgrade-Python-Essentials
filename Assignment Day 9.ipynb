{
 "cells": [
  {
   "cell_type": "markdown",
   "metadata": {
    "colab_type": "text",
    "id": "Oczcxg1ClAqR"
   },
   "source": [
    "## Assignment Day 9"
   ]
  },
  {
   "cell_type": "markdown",
   "metadata": {
    "colab_type": "text",
    "id": "eG5NgHCqlDs5"
   },
   "source": [
    "### Q1. Write a python Function for finding is a given number prime or not and do Unit Testing on it using PyLint and Unittest Library.\n"
   ]
  },
  {
   "cell_type": "code",
   "execution_count": 1,
   "metadata": {
    "colab": {
     "base_uri": "https://localhost:8080/",
     "height": 34
    },
    "colab_type": "code",
    "id": "zs1s37PSlCc_",
    "outputId": "5e683750-699c-4064-85bf-465682864c82"
   },
   "outputs": [
    {
     "name": "stdout",
     "output_type": "stream",
     "text": [
      "Writing prime_number\n"
     ]
    }
   ],
   "source": [
    "%%writefile prime_number\n",
    "'''\n",
    "It is a function to check prime number\n",
    "'''\n",
    "def prime(num_n):\n",
    "    '''\n",
    "    this is a prime function\n",
    "    '''\n",
    "    if num_n==1:\n",
    "        return False\n",
    "    for i in range(2,num_n):\n",
    "        if num_n%i==0:\n",
    "            return False\n",
    "        return True\n",
    "\n"
   ]
  },
  {
   "cell_type": "code",
   "execution_count": 2,
   "metadata": {
    "colab": {
     "base_uri": "https://localhost:8080/",
     "height": 190
    },
    "colab_type": "code",
    "id": "eKdhcja5lJQJ",
    "outputId": "95c39608-c906-4e25-e29e-5cd849f61b6a"
   },
   "outputs": [
    {
     "name": "stdout",
     "output_type": "stream",
     "text": [
      "Requirement already satisfied: pylint in c:\\users\\faraz\\anaconda3\\lib\\site-packages (2.5.3)\n",
      "Requirement already satisfied: colorama; sys_platform == \"win32\" in c:\\users\\faraz\\anaconda3\\lib\\site-packages (from pylint) (0.4.3)\n",
      "Requirement already satisfied: mccabe<0.7,>=0.6 in c:\\users\\faraz\\anaconda3\\lib\\site-packages (from pylint) (0.6.1)\n",
      "Requirement already satisfied: isort<5,>=4.2.5 in c:\\users\\faraz\\anaconda3\\lib\\site-packages (from pylint) (4.3.21)\n",
      "Requirement already satisfied: astroid<=2.5,>=2.4.0 in c:\\users\\faraz\\anaconda3\\lib\\site-packages (from pylint) (2.4.2)\n",
      "Requirement already satisfied: toml>=0.7.1 in c:\\users\\faraz\\anaconda3\\lib\\site-packages (from pylint) (0.10.1)\n",
      "Requirement already satisfied: wrapt~=1.11 in c:\\users\\faraz\\anaconda3\\lib\\site-packages (from astroid<=2.5,>=2.4.0->pylint) (1.11.2)\n",
      "Requirement already satisfied: six~=1.12 in c:\\users\\faraz\\anaconda3\\lib\\site-packages (from astroid<=2.5,>=2.4.0->pylint) (1.15.0)\n",
      "Requirement already satisfied: lazy-object-proxy==1.4.* in c:\\users\\faraz\\anaconda3\\lib\\site-packages (from astroid<=2.5,>=2.4.0->pylint) (1.4.3)\n"
     ]
    }
   ],
   "source": [
    "! pip install pylint"
   ]
  },
  {
   "cell_type": "code",
   "execution_count": 3,
   "metadata": {
    "colab": {
     "base_uri": "https://localhost:8080/",
     "height": 85
    },
    "colab_type": "code",
    "id": "sFH7Rc5SlN3Q",
    "outputId": "aa2ab7e5-a597-4133-b674-bb3789dacd49"
   },
   "outputs": [
    {
     "name": "stdout",
     "output_type": "stream",
     "text": [
      "************* Module prime_number\n",
      "prime_number:8:12: C0326: Exactly one space required around comparison\n",
      "    if num_n==1:\n",
      "\n",
      "            ^^ (bad-whitespace)\n",
      "prime_number:10:20: C0326: Exactly one space required after comma\n",
      "    for i in range(2,num_n):\n",
      "\n",
      "                    ^ (bad-whitespace)\n",
      "prime_number:11:18: C0326: Exactly one space required around comparison\n",
      "        if num_n%i==0:\n",
      "\n",
      "                  ^^ (bad-whitespace)\n",
      "prime_number:14:0: C0305: Trailing newlines (trailing-newlines)\n",
      "\n",
      "-----------------------------------\n",
      "\n",
      "Your code has been rated at 4.29/10\n",
      "\n",
      "\n",
      "\n"
     ]
    }
   ],
   "source": [
    "! pylint \"prime_number\""
   ]
  },
  {
   "cell_type": "markdown",
   "metadata": {
    "colab_type": "text",
    "id": "RVwOTS3RmU0Q"
   },
   "source": [
    "### Q2. Make a small generator program for returning armstrong numbers in between 1-1000 in a generator object."
   ]
  },
  {
   "cell_type": "code",
   "execution_count": 23,
   "metadata": {
    "colab": {
     "base_uri": "https://localhost:8080/",
     "height": 187
    },
    "colab_type": "code",
    "id": "_YeJnhvvmYba",
    "outputId": "1671526b-4965-4863-f203-d97e25e8ee50"
   },
   "outputs": [
    {
     "name": "stdout",
     "output_type": "stream",
     "text": [
      "Enter 'x' for exit \n",
      "Enter the interval (starting number):\n",
      "Enter the interval (ending number):\n",
      "1\n",
      "1000\n",
      "1\n",
      "153\n",
      "370\n",
      "371\n",
      "407\n"
     ]
    }
   ],
   "source": [
    "print(\"Enter 'x' for exit \")\n",
    "print(\"Enter the interval (starting number):\")\n",
    "print(\"Enter the interval (ending number):\")\n",
    "\n",
    "start = input();\n",
    "if start == 'x':\n",
    "  exit();\n",
    "else:\n",
    "  end = input()\n",
    "  lower = int(start);\n",
    "  upper = int(end);\n",
    "  for num in range(lower, upper+1):\n",
    "    tot = 0;\n",
    "    temp = num;\n",
    "    while temp != 0:\n",
    "      dig = temp % 10;\n",
    "      tot += dig ** 3;\n",
    "      temp //= 10;\n",
    "    if num == tot:\n",
    "      print(num);  \n"
   ]
  }
 ],
 "metadata": {
  "colab": {
   "name": "Day-9 Assignment.ipynb",
   "provenance": []
  },
  "kernelspec": {
   "display_name": "Python 3",
   "language": "python",
   "name": "python3"
  },
  "language_info": {
   "codemirror_mode": {
    "name": "ipython",
    "version": 3
   },
   "file_extension": ".py",
   "mimetype": "text/x-python",
   "name": "python",
   "nbconvert_exporter": "python",
   "pygments_lexer": "ipython3",
   "version": "3.8.3"
  }
 },
 "nbformat": 4,
 "nbformat_minor": 1
}
