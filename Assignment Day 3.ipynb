{
 "cells": [
  {
   "cell_type": "markdown",
   "metadata": {},
   "source": [
    "# LetsUpgrade Python Essentials Batch-7              "
   ]
  },
  {
   "cell_type": "markdown",
   "metadata": {},
   "source": [
    "# Assignment Day 3"
   ]
  },
  {
   "cell_type": "markdown",
   "metadata": {},
   "source": [
    "### Q1. You all are Pilots, you want to land a plane safely, so altitude required for landing a plane is 1000ft, if it is less than tell pilot to land the plane, or it is more than that but less than 5000ft ask the pilot to “come down to 1000ft”, else if it more than 5000ft ask the pilot to “go around and try later”"
   ]
  },
  {
   "cell_type": "code",
   "execution_count": 5,
   "metadata": {},
   "outputs": [
    {
     "name": "stdout",
     "output_type": "stream",
     "text": [
      "Enter the altitude in fts: 5000\n",
      "Come down to 1000ft\n"
     ]
    }
   ],
   "source": [
    "m=int(input('Enter the altitude in fts: '))\n",
    "a=1000\n",
    "b=5000\n",
    "\n",
    "if m<=a:\n",
    "    print(\"Land the plane\")\n",
    "elif m>a and m<=b:\n",
    "    print(\"Come down to 1000ft\")\n",
    "else:\n",
    "    if m>b:\n",
    "        print(\"Go around and try later\")\n",
    "    else:\n",
    "        pass"
   ]
  },
  {
   "cell_type": "markdown",
   "metadata": {},
   "source": [
    "### Q2. Using for loop please print all the prime numbers between 1- 200 using FOR LOOP AND RANGE function."
   ]
  },
  {
   "cell_type": "code",
   "execution_count": null,
   "metadata": {},
   "outputs": [],
   "source": [
    "for i in range(1,200):\n",
    "    for j in range(2,i):\n",
    "        if i%j==0:\n",
    "            break\n",
    "    else:\n",
    "        print(i)"
   ]
  }
 ],
 "metadata": {
  "kernelspec": {
   "display_name": "Python 3",
   "language": "python",
   "name": "python3"
  },
  "language_info": {
   "codemirror_mode": {
    "name": "ipython",
    "version": 3
   },
   "file_extension": ".py",
   "mimetype": "text/x-python",
   "name": "python",
   "nbconvert_exporter": "python",
   "pygments_lexer": "ipython3",
   "version": "3.8.3"
  }
 },
 "nbformat": 4,
 "nbformat_minor": 4
}
